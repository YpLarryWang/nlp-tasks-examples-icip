{
  "nbformat": 4,
  "nbformat_minor": 0,
  "metadata": {
    "colab": {
      "provenance": []
    },
    "kernelspec": {
      "name": "python3",
      "display_name": "Python 3"
    },
    "language_info": {
      "name": "python"
    }
  },
  "cells": [
    {
      "cell_type": "markdown",
      "source": [
        "# IMDB文本分类示例\n",
        "\n",
        "使用CNN和LSTM模型进行情感分类\n",
        "\n",
        "数据集准备：\n",
        "1. 下载数据集：\n",
        "   wget http://ai.stanford.edu/~amaas/data/sentiment/aclImdb_v1.tar.gz\n",
        "\n",
        "2. 解压数据集：\n",
        "   tar -xzf aclImdb_v1.tar.gz\n",
        "\n",
        "3. 查看数据集大小：\n",
        "   - find aclImdb/train/pos -type f | wc -l  # 查看训练集正面评论数量\n",
        "   - find aclImdb/train/neg -type f | wc -l  # 查看训练集负面评论数量\n",
        "   - find aclImdb/test/pos -type f | wc -l   # 查看测试集正面评论数量\n",
        "   - find aclImdb/test/neg -type f | wc -l   # 查看测试集负面评论数量\n",
        "\n",
        "4. 运行脚本时，请确保aclImdb目录在当前目录下\n",
        "\n",
        "GPU支持：\n",
        "- 如果检测到GPU，将自动使用GPU进行训练\n",
        "- 可以通过设置USE_GPU=False强制使用CPU"
      ],
      "metadata": {
        "id": "J4u0tTIKK4vy"
      }
    },
    {
      "cell_type": "code",
      "execution_count": 17,
      "metadata": {
        "colab": {
          "base_uri": "https://localhost:8080/"
        },
        "id": "mxmJnKfvKwmL",
        "outputId": "bbee6e74-2fac-43a9-d450-c31261c36ca1"
      },
      "outputs": [
        {
          "output_type": "stream",
          "name": "stdout",
          "text": [
            "--2025-03-30 18:28:06--  http://ai.stanford.edu/~amaas/data/sentiment/aclImdb_v1.tar.gz\n",
            "Resolving ai.stanford.edu (ai.stanford.edu)... 171.64.68.10\n",
            "Connecting to ai.stanford.edu (ai.stanford.edu)|171.64.68.10|:80... connected.\n",
            "HTTP request sent, awaiting response... 200 OK\n",
            "Length: 84125825 (80M) [application/x-gzip]\n",
            "Saving to: ‘aclImdb_v1.tar.gz.1’\n",
            "\n",
            "aclImdb_v1.tar.gz.1 100%[===================>]  80.23M  52.3MB/s    in 1.5s    \n",
            "\n",
            "2025-03-30 18:28:08 (52.3 MB/s) - ‘aclImdb_v1.tar.gz.1’ saved [84125825/84125825]\n",
            "\n"
          ]
        }
      ],
      "source": [
        "!wget http://ai.stanford.edu/~amaas/data/sentiment/aclImdb_v1.tar.gz"
      ]
    },
    {
      "cell_type": "code",
      "source": [
        "!pwd"
      ],
      "metadata": {
        "colab": {
          "base_uri": "https://localhost:8080/"
        },
        "id": "hu56ViG_LHXw",
        "outputId": "01de784a-0502-4318-8df2-21f8477dc303"
      },
      "execution_count": 32,
      "outputs": [
        {
          "output_type": "stream",
          "name": "stdout",
          "text": [
            "/content\n"
          ]
        }
      ]
    },
    {
      "cell_type": "code",
      "source": [
        "!ls"
      ],
      "metadata": {
        "colab": {
          "base_uri": "https://localhost:8080/"
        },
        "id": "5CtC232oLLMh",
        "outputId": "a7a52b3a-a0aa-4d29-82fb-5251853aa8fa"
      },
      "execution_count": 33,
      "outputs": [
        {
          "output_type": "stream",
          "name": "stdout",
          "text": [
            "aclImdb  aclImdb_v1.tar.gz  aclImdb_v1.tar.gz.1  sample_data\n"
          ]
        }
      ]
    },
    {
      "cell_type": "code",
      "source": [
        "!tar -xzf aclImdb_v1.tar.gz"
      ],
      "metadata": {
        "id": "3yZcJ7N1LLsL"
      },
      "execution_count": 34,
      "outputs": []
    },
    {
      "cell_type": "code",
      "source": [
        "!find aclImdb/train/pos -type f | wc -l"
      ],
      "metadata": {
        "colab": {
          "base_uri": "https://localhost:8080/"
        },
        "id": "gbtFNn8dQZFi",
        "outputId": "3153a88a-0913-4df4-93d0-268f5010882f"
      },
      "execution_count": 35,
      "outputs": [
        {
          "output_type": "stream",
          "name": "stdout",
          "text": [
            "12500\n"
          ]
        }
      ]
    },
    {
      "cell_type": "markdown",
      "source": [
        "这行代码是一个 Unix/Linux 命令行操作，它结合了两个命令（`find` 和 `wc`）通过管道操作符（`|`）连接起来。\n",
        "\n",
        "解释如下：\n",
        "\n",
        "1. `find aclImdb/train/pos -type f`：\n",
        "   - `find` 是查找文件的命令\n",
        "   - `aclImdb/train/pos` 是要搜索的路径或目录\n",
        "   - `-type f` 指定只查找常规文件（不包括目录、符号链接等）\n",
        "\n",
        "2. `|`：管道操作符，将第一个命令的输出作为第二个命令的输入\n",
        "\n",
        "3. `wc -l`：\n",
        "   - `wc` 是文本计数工具（word count）\n",
        "   - `-l` 选项表示只计算行数\n",
        "\n",
        "整体功能：这行代码统计 aclImdb/train/pos 目录下所有常规文件的数量。\n",
        "\n",
        "这是在处理 IMDB 电影评论数据集，其中 aclImdb/train/pos 目录通常包含训练集中的正面（positive）评论文件。该命令会计算出正面评论文件的总数量。"
      ],
      "metadata": {
        "id": "azNtguiGRA-E"
      }
    },
    {
      "cell_type": "code",
      "source": [
        "!find aclImdb/train/pos/0_9.txt -type f | wc -l"
      ],
      "metadata": {
        "colab": {
          "base_uri": "https://localhost:8080/"
        },
        "id": "ZuRWaqhnRI20",
        "outputId": "0a4d05fe-192c-4046-ee05-8f015385df0e"
      },
      "execution_count": 36,
      "outputs": [
        {
          "output_type": "stream",
          "name": "stdout",
          "text": [
            "1\n"
          ]
        }
      ]
    },
    {
      "cell_type": "code",
      "source": [
        "!cat aclImdb/train/pos/0_9.txt"
      ],
      "metadata": {
        "colab": {
          "base_uri": "https://localhost:8080/"
        },
        "id": "Cwu8nRFoROcV",
        "outputId": "394cb245-a929-4694-88f9-3966a9661eb8"
      },
      "execution_count": 37,
      "outputs": [
        {
          "output_type": "stream",
          "name": "stdout",
          "text": [
            "Bromwell High is a cartoon comedy. It ran at the same time as some other programs about school life, such as \"Teachers\". My 35 years in the teaching profession lead me to believe that Bromwell High's satire is much closer to reality than is \"Teachers\". The scramble to survive financially, the insightful students who can see right through their pathetic teachers' pomp, the pettiness of the whole situation, all remind me of the schools I knew and their students. When I saw the episode in which a student repeatedly tried to burn down the school, I immediately recalled ......... at .......... High. A classic line: INSPECTOR: I'm here to sack one of your teachers. STUDENT: Welcome to Bromwell High. I expect that many adults of my age think that Bromwell High is far fetched. What a pity that it isn't!"
          ]
        }
      ]
    },
    {
      "cell_type": "markdown",
      "source": [
        "\"cat\" 命令的名称源自英文单词 \"concatenate\"（连接）的缩写。\n",
        "\n",
        "这个命令的设计初衷是将多个文件的内容连接（concatenate）在一起并输出到标准输出。例如：\n",
        "\n",
        "```\n",
        "cat file1.txt file2.txt file3.txt\n",
        "```\n",
        "\n",
        "这个命令会将三个文件的内容依次连接并显示出来。\n",
        "\n",
        "虽然我们现在常常只用 cat 来显示单个文件内容（如 `cat file.txt`），但它的真正功能是可以连接多个文件。这也是为什么它被命名为 \"cat\" 的原因 - 它是 \"concatenate\" 的简写。\n",
        "\n",
        "这个命令是 Unix 早期开发的基本命令之一，体现了 Unix 哲学中的一个核心原则：创建做一件事并做好的小工具，然后通过管道和重定向将它们组合起来完成复杂任务。"
      ],
      "metadata": {
        "id": "lJo4X4MuRo5h"
      }
    },
    {
      "cell_type": "markdown",
      "source": [
        "## 导包"
      ],
      "metadata": {
        "id": "osDHc1z5Lfmz"
      }
    },
    {
      "cell_type": "code",
      "source": [
        "import torch\n",
        "import torch.nn as nn\n",
        "import torch.optim as optim\n",
        "from torch.utils.data import Dataset, DataLoader, random_split\n",
        "import numpy as np\n",
        "from tqdm import tqdm\n",
        "import os\n",
        "import matplotlib.pyplot as plt"
      ],
      "metadata": {
        "id": "oFBCRxdCLNmx"
      },
      "execution_count": 65,
      "outputs": []
    },
    {
      "cell_type": "markdown",
      "source": [
        "## GPU设置"
      ],
      "metadata": {
        "id": "nJ_psDPmLlKJ"
      }
    },
    {
      "cell_type": "code",
      "source": [
        "USE_GPU = True  # 设置为False可以强制使用CPU\n",
        "device = torch.device('cuda' if USE_GPU and torch.cuda.is_available() else 'cpu')\n",
        "print(f\"Using device: {device}\")\n",
        "if device.type == 'cuda':\n",
        "    print(f\"GPU: {torch.cuda.get_device_name(0)}\")"
      ],
      "metadata": {
        "colab": {
          "base_uri": "https://localhost:8080/"
        },
        "id": "JXoitpAZLbMx",
        "outputId": "c2c70e62-4938-4016-a8c8-089bbcec1924"
      },
      "execution_count": 39,
      "outputs": [
        {
          "output_type": "stream",
          "name": "stdout",
          "text": [
            "Using device: cuda\n",
            "GPU: Tesla T4\n"
          ]
        }
      ]
    },
    {
      "cell_type": "code",
      "source": [
        "class IMDBDataset(Dataset):\n",
        "    def __init__(self, split='train', max_samples=None, data_dir=\"aclImdb\"):\n",
        "        self.data = []\n",
        "        self.labels = []\n",
        "        self.data_dir = data_dir\n",
        "\n",
        "        # 加载IMDB数据\n",
        "        self._load_imdb(split, max_samples)\n",
        "\n",
        "    def _load_imdb(self, split, max_samples):\n",
        "        # 检查数据集目录是否存在\n",
        "        if not os.path.exists(self.data_dir):\n",
        "            raise FileNotFoundError(\n",
        "                f\"数据集目录 {self.data_dir} 不存在。请先下载并解压数据集：\\n\"\n",
        "                \"1. wget http://ai.stanford.edu/~amaas/data/sentiment/aclImdb_v1.tar.gz\\n\"\n",
        "                \"2. tar -xzf aclImdb_v1.tar.gz\"\n",
        "            )\n",
        "\n",
        "        # 加载数据\n",
        "        base_path = os.path.join(self.data_dir, split)\n",
        "        pos_path = os.path.join(base_path, 'pos')\n",
        "        neg_path = os.path.join(base_path, 'neg')\n",
        "\n",
        "        # 读取正面评论\n",
        "        for filename in os.listdir(pos_path)[:max_samples//2 if max_samples else None]:\n",
        "            if filename.endswith('.txt'):\n",
        "                with open(os.path.join(pos_path, filename), 'r', encoding='utf-8') as f:\n",
        "                    self.data.append(f.read().lower())\n",
        "                    self.labels.append(1)\n",
        "\n",
        "        # 读取负面评论\n",
        "        for filename in os.listdir(neg_path)[:max_samples//2 if max_samples else None]:\n",
        "            if filename.endswith('.txt'):\n",
        "                with open(os.path.join(neg_path, filename), 'r', encoding='utf-8') as f:\n",
        "                    self.data.append(f.read().lower())\n",
        "                    self.labels.append(0)\n",
        "\n",
        "    def __len__(self):\n",
        "        return len(self.data)\n",
        "\n",
        "    def __getitem__(self, idx):\n",
        "        return self.data[idx], self.labels[idx]"
      ],
      "metadata": {
        "id": "euWRhX1lLv6F"
      },
      "execution_count": 40,
      "outputs": []
    },
    {
      "cell_type": "code",
      "source": [
        "def preprocess_text(text):\n",
        "    \"\"\"\n",
        "    简单的文本预处理函数\n",
        "\n",
        "    功能:\n",
        "    1. 将文本转换为小写 (lower())\n",
        "    2. 去除文本首尾的空白字符 (strip())\n",
        "    3. 将文本分割成单词列表 (split())\n",
        "\n",
        "    参数:\n",
        "    text (str): 需要处理的原始文本\n",
        "\n",
        "    返回:\n",
        "    list: 处理后的单词列表\n",
        "    \"\"\"\n",
        "    return text.lower().strip().split()\n"
      ],
      "metadata": {
        "id": "LnS5WxKVL7s-"
      },
      "execution_count": 41,
      "outputs": []
    },
    {
      "cell_type": "code",
      "source": [
        "def build_vocab(texts, min_freq=5):\n",
        "    \"\"\"构建词汇表\n",
        "\n",
        "    Args:\n",
        "        texts: 文本列表\n",
        "        min_freq: 最小词频阈值，词频低于此值的词不会被加入词表\n",
        "    \"\"\"\n",
        "    # 统计词频\n",
        "    word_freq = {}\n",
        "    for text in texts:\n",
        "        for word in preprocess_text(text):\n",
        "            word_freq[word] = word_freq.get(word, 0) + 1\n",
        "\n",
        "    # 根据词频阈值筛选词表\n",
        "    vocabulary = set(word for word, freq in word_freq.items() if freq >= min_freq)\n",
        "\n",
        "    # 添加特殊token\n",
        "    vocabulary.add(\"<pad>\")\n",
        "    vocabulary.add(\"<unk>\")\n",
        "\n",
        "    # 创建词到索引的映射\n",
        "    word_to_ix = {word: idx for idx, word in enumerate(sorted(list(vocabulary)))}\n",
        "    return word_to_ix"
      ],
      "metadata": {
        "id": "rSoSdiseL-xS"
      },
      "execution_count": 42,
      "outputs": []
    },
    {
      "cell_type": "code",
      "source": [
        "def convert_text_to_indices(text, word_to_ix, max_len=500):\n",
        "    \"\"\"将文本转换为索引序列\"\"\"\n",
        "    tokens = preprocess_text(text)[:max_len]\n",
        "    indices = []\n",
        "    for token in tokens:\n",
        "        if token in word_to_ix:\n",
        "            indices.append(word_to_ix[token])\n",
        "        else:\n",
        "            indices.append(word_to_ix[\"<unk>\"])\n",
        "\n",
        "    # 填充到固定长度\n",
        "    if len(indices) < max_len:\n",
        "        indices.extend([word_to_ix[\"<pad>\"]] * (max_len - len(indices)))\n",
        "    return indices"
      ],
      "metadata": {
        "id": "5rg_fz8cMA9K"
      },
      "execution_count": 43,
      "outputs": []
    },
    {
      "cell_type": "code",
      "source": [
        "def collate_fn(batch):\n",
        "    \"\"\"\n",
        "    整理批次数据，将原始数据转换为模型可接受的格式\n",
        "\n",
        "    参数:\n",
        "        batch: 一个包含多个样本的列表，每个样本是一个元组 (text_indices, label)\n",
        "               其中 text_indices 是文本的数字索引列表，label 是对应的标签\n",
        "\n",
        "    处理步骤:\n",
        "    1. 解包批次数据，分离文本索引和标签\n",
        "    2. 将文本索引列表转换为张量\n",
        "    3. 将所有文本张量堆叠为一个批次张量\n",
        "    4. 将标签列表转换为张量\n",
        "\n",
        "    返回:\n",
        "        tuple: 包含两个元素:\n",
        "            - 文本索引的批次张量，形状为 [batch_size, seq_length]\n",
        "            - 标签的批次张量，形状为 [batch_size]\n",
        "    \"\"\"\n",
        "    # 解包批次数据，将文本和标签分开\n",
        "    # 假设每个 batch 元素是 (text_indices, label) 的形式\n",
        "    texts, labels = zip(*batch)\n",
        "\n",
        "    # 将每个文本的索引列表转换为 PyTorch 张量\n",
        "    # 类型设置为 torch.long，适合存储词汇表索引\n",
        "    text_indices = [torch.tensor(text, dtype=torch.long) for text in texts]\n",
        "\n",
        "    # 堆叠所有文本张量成一个批次张量并返回标签张量\n",
        "    # 注意: torch.stack 要求所有张量具有相同维度，如果文本长度不同可能需要使用 padding_collate_fn\n",
        "    return torch.stack(text_indices), torch.tensor(labels)\n"
      ],
      "metadata": {
        "id": "WOs5mlSyMCpp"
      },
      "execution_count": 46,
      "outputs": []
    },
    {
      "cell_type": "code",
      "source": [
        "# 创建三个相同形状的张量\n",
        "tensor1 = torch.tensor([1, 2, 3])\n",
        "tensor2 = torch.tensor([4, 5, 6])\n",
        "tensor3 = torch.tensor([7, 8, 9])\n",
        "\n",
        "print(\"原始张量:\")\n",
        "print(\"tensor1:\", tensor1, \"形状:\", tensor1.shape)\n",
        "print(\"tensor2:\", tensor2, \"形状:\", tensor2.shape)\n",
        "print(\"tensor3:\", tensor3, \"形状:\", tensor3.shape)\n",
        "\n",
        "# 使用 torch.stack 在新维度(dim=0)上堆叠张量\n",
        "stacked_tensors = torch.stack([tensor1, tensor2, tensor3], dim=0)\n",
        "print(\"\\n在新维度0上堆叠后:\")\n",
        "print(stacked_tensors)\n",
        "print(\"堆叠后形状:\", stacked_tensors.shape)  # 应该是 [3, 3]\n",
        "\n",
        "# 可以在不同维度上堆叠\n",
        "stacked_tensors_dim1 = torch.stack([tensor1, tensor2, tensor3], dim=1)\n",
        "print(\"\\n在新维度1上堆叠后:\")\n",
        "print(stacked_tensors_dim1)\n",
        "print(\"堆叠后形状:\", stacked_tensors_dim1.shape)  # 应该是 [3, 3]"
      ],
      "metadata": {
        "colab": {
          "base_uri": "https://localhost:8080/"
        },
        "id": "_4Db7AzdUTsI",
        "outputId": "abe38003-9cdc-44ed-b46e-a9d489a133a1"
      },
      "execution_count": 50,
      "outputs": [
        {
          "output_type": "stream",
          "name": "stdout",
          "text": [
            "原始张量:\n",
            "tensor1: tensor([1, 2, 3]) 形状: torch.Size([3])\n",
            "tensor2: tensor([4, 5, 6]) 形状: torch.Size([3])\n",
            "tensor3: tensor([7, 8, 9]) 形状: torch.Size([3])\n",
            "\n",
            "在新维度0上堆叠后:\n",
            "tensor([[1, 2, 3],\n",
            "        [4, 5, 6],\n",
            "        [7, 8, 9]])\n",
            "堆叠后形状: torch.Size([3, 3])\n",
            "\n",
            "在新维度1上堆叠后:\n",
            "tensor([[1, 4, 7],\n",
            "        [2, 5, 8],\n",
            "        [3, 6, 9]])\n",
            "堆叠后形状: torch.Size([3, 3])\n"
          ]
        }
      ]
    },
    {
      "cell_type": "markdown",
      "source": [
        "## `torch.cat` 和 `torch.stack` 的区别\n",
        "\n",
        "1. **维度处理方式**:\n",
        "   - `torch.stack`: 创建一个新的维度来堆叠张量\n",
        "   - `torch.cat`: 沿着已有的维度连接张量，不创建新维度\n",
        "\n",
        "2. **输出形状**:\n",
        "   - `torch.stack`: 如果输入是 n 个形状为 [a, b] 的张量，在 dim=0 堆叠后形状变为 [n, a, b]\n",
        "   - `torch.cat`: 如果输入是 n 个形状为 [a, b] 的张量，在 dim=0 连接后形状为 [n*a, b]\n",
        "\n",
        "3. **输入要求**:\n",
        "   - `torch.stack`: 要求所有输入张量形状完全相同\n",
        "   - `torch.cat`: 只要求待连接维度之外的其他维度相同"
      ],
      "metadata": {
        "id": "w-BPWRGRUshK"
      }
    },
    {
      "cell_type": "code",
      "source": [
        "# 创建三个相同形状的张量\n",
        "tensor1 = torch.tensor([[1, 2, 3]])\n",
        "tensor2 = torch.tensor([[4, 5, 6]])\n",
        "tensor3 = torch.tensor([[7, 8, 9]])\n",
        "\n",
        "# stack操作 - 创建新维度\n",
        "stacked = torch.stack([tensor1, tensor2, tensor3], dim=0)\n",
        "print(\"Stack结果:\")\n",
        "print(stacked)\n",
        "print(\"形状:\", stacked.shape)  # 形状: torch.Size([3, 3])\n",
        "\n",
        "# cat操作 - 在现有维度上连接\n",
        "cat_result = torch.cat([tensor1, tensor2, tensor3], dim=0)\n",
        "print(\"\\nCat结果:\")\n",
        "print(cat_result)\n",
        "print(\"形状:\", cat_result.shape)  # 形状: torch.Size([9])\n",
        "\n",
        "# 如果要用cat实现类似stack的效果，需要先增加维度\n",
        "tensor1_unsqueezed = tensor1.unsqueeze(0)  # 形状变为 [1, 3]\n",
        "tensor2_unsqueezed = tensor2.unsqueeze(0)\n",
        "tensor3_unsqueezed = tensor3.unsqueeze(0)\n",
        "\n",
        "cat_unsqueezed = torch.cat([tensor1_unsqueezed, tensor2_unsqueezed, tensor3_unsqueezed], dim=0)\n",
        "print(\"\\nCat结果(先unsqueeze):\")\n",
        "print(cat_unsqueezed)\n",
        "print(\"形状:\", cat_unsqueezed.shape)  # 形状: torch.Size([3, 3])\n",
        "print(\"与stack结果相同?\", torch.all(cat_unsqueezed == stacked).item())\n",
        "\n",
        "\n",
        "print('=' * 50)\n",
        "\n",
        "# 这些张量形状相同，都是 [3]\n",
        "a = torch.tensor([1, 2, 3])           # 形状: [3]\n",
        "b = torch.tensor([4, 5, 6])           # 形状: [3]\n",
        "\n",
        "# 可以成功堆叠\n",
        "stacked = torch.stack([a, b], dim=0)  # 结果形状: [2, 3]\n",
        "print(\"成功堆叠:\", stacked)\n",
        "\n",
        "# 错误示例：形状不同的张量\n",
        "c = torch.tensor([7, 8, 9, 10])       # 形状: [4]\n",
        "try:\n",
        "    # 这会失败，因为a和c形状不同\n",
        "    torch.stack([a, c], dim=0)\n",
        "except RuntimeError as e:\n",
        "    print(\"堆叠形状不同的张量出错:\", e)\n",
        "\n",
        "print('=' * 50)\n",
        "\n",
        "# 示例1: 一维张量连接\n",
        "a = torch.tensor([1, 2, 3])           # 形状: [3]\n",
        "c = torch.tensor([7, 8, 9, 10])       # 形状: [4]\n",
        "\n",
        "# 可以沿着维度0连接，因为它们都是一维张量\n",
        "concat1 = torch.cat([a, c], dim=0)    # 结果形状: [7]\n",
        "print(\"\\n连接不同长度的一维张量:\", concat1)\n",
        "\n",
        "# 示例2: 二维张量连接\n",
        "d = torch.tensor([[1, 2, 3],\n",
        "                  [4, 5, 6]])          # 形状: [2, 3]\n",
        "e = torch.tensor([[7, 8, 9]])          # 形状: [1, 3]\n",
        "\n",
        "# 沿着第一维度(dim=0)连接 - 第一维度可以不同，但第二维度必须相同\n",
        "concat2 = torch.cat([d, e], dim=0)     # 结果形状: [3, 3]\n",
        "print(\"\\n沿着第一维度连接:\", concat2)\n",
        "\n",
        "# 示例3: 错误情况\n",
        "f = torch.tensor([[1, 2],\n",
        "                 [3, 4]])             # 形状: [2, 2]\n",
        "\n",
        "try:\n",
        "    # 这会失败，因为d和f的第二维度不同(3 vs 2)\n",
        "    torch.cat([d, f], dim=0)\n",
        "except RuntimeError as e:\n",
        "    print(\"\\n连接不匹配张量出错:\", e)\n",
        "\n",
        "# 但我们可以沿着第二维度(dim=1)连接大小不同的向量\n",
        "\n",
        "# d形状[2,3]，f形状[2,2]，第一维度相同，可以沿第二维度连接\n",
        "concat3 = torch.cat([d, f], dim=1)     # 结果形状: [2, 7]\n",
        "print(\"\\n沿第二维度连接:\", concat3)\n"
      ],
      "metadata": {
        "colab": {
          "base_uri": "https://localhost:8080/"
        },
        "id": "zpm367BGUr4C",
        "outputId": "b946b4d5-a8e7-4e2e-a66f-7bba031b6cb5"
      },
      "execution_count": 53,
      "outputs": [
        {
          "output_type": "stream",
          "name": "stdout",
          "text": [
            "Stack结果:\n",
            "tensor([[[1, 2, 3]],\n",
            "\n",
            "        [[4, 5, 6]],\n",
            "\n",
            "        [[7, 8, 9]]])\n",
            "形状: torch.Size([3, 1, 3])\n",
            "\n",
            "Cat结果:\n",
            "tensor([[1, 2, 3],\n",
            "        [4, 5, 6],\n",
            "        [7, 8, 9]])\n",
            "形状: torch.Size([3, 3])\n",
            "\n",
            "Cat结果(先unsqueeze):\n",
            "tensor([[[1, 2, 3]],\n",
            "\n",
            "        [[4, 5, 6]],\n",
            "\n",
            "        [[7, 8, 9]]])\n",
            "形状: torch.Size([3, 1, 3])\n",
            "与stack结果相同? True\n",
            "==================================================\n",
            "成功堆叠: tensor([[1, 2, 3],\n",
            "        [4, 5, 6]])\n",
            "堆叠形状不同的张量出错: stack expects each tensor to be equal size, but got [3] at entry 0 and [4] at entry 1\n",
            "==================================================\n",
            "\n",
            "连接不同长度的一维张量: tensor([ 1,  2,  3,  7,  8,  9, 10])\n",
            "\n",
            "沿着第一维度连接: tensor([[1, 2, 3],\n",
            "        [4, 5, 6],\n",
            "        [7, 8, 9]])\n",
            "\n",
            "连接不匹配张量出错: Sizes of tensors must match except in dimension 0. Expected size 3 but got size 2 for tensor number 1 in the list.\n",
            "\n",
            "沿第二维度连接: tensor([[1, 2, 3, 1, 2],\n",
            "        [4, 5, 6, 3, 4]])\n"
          ]
        }
      ]
    },
    {
      "cell_type": "code",
      "source": [
        "class TextCNN(nn.Module):\n",
        "    def __init__(self, vocab_size, embed_dim, num_filters, filter_sizes, num_classes, dropout=0.5):\n",
        "        super(TextCNN, self).__init__()\n",
        "\n",
        "        self.embedding = nn.Embedding(vocab_size, embed_dim, padding_idx=0)\n",
        "\n",
        "        # CNN层\n",
        "        self.convs = nn.ModuleList([\n",
        "            nn.Conv1d(embed_dim, num_filters, fs)\n",
        "            for fs in filter_sizes\n",
        "        ])\n",
        "\n",
        "        # 全连接层\n",
        "        self.fc = nn.Linear(num_filters * len(filter_sizes), num_classes)\n",
        "        self.dropout = nn.Dropout(dropout)\n",
        "\n",
        "    def forward(self, x):\n",
        "        # x shape: (batch, seq_len)\n",
        "        embedded = self.embedding(x)  # (batch, seq_len, embed_dim)\n",
        "\n",
        "        # 准备卷积输入\n",
        "        embedded = embedded.transpose(1, 2)  # (batch, embed_dim, seq_len)\n",
        "\n",
        "        # 应用CNN\n",
        "        conv_outputs = []\n",
        "        for conv in self.convs:\n",
        "            conv_out = torch.relu(conv(embedded))\n",
        "            pool_out = torch.max_pool1d(conv_out, conv_out.shape[2])\n",
        "            conv_outputs.append(pool_out)\n",
        "\n",
        "        # 合并所有卷积结果\n",
        "        combined = torch.cat(conv_outputs, dim=1).squeeze(-1)\n",
        "        combined = self.dropout(combined)\n",
        "        out = self.fc(combined)\n",
        "\n",
        "        return out"
      ],
      "metadata": {
        "id": "GV8d_gaeMEbW"
      },
      "execution_count": 54,
      "outputs": []
    },
    {
      "cell_type": "code",
      "source": [
        "class TextLSTM(nn.Module):\n",
        "    def __init__(self, vocab_size, embed_dim, hidden_dim, num_classes, num_layers=2, dropout=0.5):\n",
        "        super(TextLSTM, self).__init__()\n",
        "\n",
        "        self.embedding = nn.Embedding(vocab_size, embed_dim, padding_idx=0)\n",
        "        self.dropout = nn.Dropout(dropout)\n",
        "\n",
        "        self.lstm = nn.LSTM(embed_dim,\n",
        "                           hidden_dim,\n",
        "                           num_layers=num_layers,\n",
        "                           bidirectional=True,\n",
        "                           batch_first=True,)\n",
        "                          #  dropout=dropout if num_layers > 1 else 0)\n",
        "\n",
        "        # 添加批归一化\n",
        "        self.bn = nn.BatchNorm1d(hidden_dim * 2)\n",
        "\n",
        "        self.fc = nn.Linear(hidden_dim * 2, num_classes)\n",
        "\n",
        "    def forward(self, x):\n",
        "        embedded = self.embedding(x)\n",
        "        # embedded = self.dropout(embedded)\n",
        "\n",
        "        lstm_out, _ = self.lstm(embedded)\n",
        "\n",
        "        # print(lstm_out.size())\n",
        "\n",
        "        # 使用平均池化而不是只取最后一个时间步\n",
        "        # avg_pool = torch.mean(lstm_out, dim=1)\n",
        "        avg_pool = lstm_out[:, -1, :]\n",
        "\n",
        "        # print(avg_pool.size())\n",
        "\n",
        "        # # 应用批归一化\n",
        "        # normed = self.bn(avg_pool)\n",
        "        # out = self.dropout(normed)\n",
        "        # out = self.fc(out)\n",
        "\n",
        "        out = self.fc(avg_pool)\n",
        "\n",
        "        return out"
      ],
      "metadata": {
        "id": "9YHtu30XMHVd"
      },
      "execution_count": 173,
      "outputs": []
    },
    {
      "cell_type": "code",
      "source": [
        "def train_model(model, train_loader, val_loader, criterion, optimizer, num_epochs, device, save_dir='models'):\n",
        "    \"\"\"训练模型\n",
        "\n",
        "    Args:\n",
        "        model: 模型\n",
        "        train_loader: 训练数据加载器\n",
        "        val_loader: 验证数据加载器\n",
        "        criterion: 损失函数\n",
        "        optimizer: 优化器\n",
        "        num_epochs: 训练轮数\n",
        "        device: 训练设备\n",
        "        save_dir: 模型保存目录\n",
        "    \"\"\"\n",
        "    # 创建保存目录\n",
        "    os.makedirs(save_dir, exist_ok=True)\n",
        "\n",
        "    best_val_acc = 0\n",
        "    model_name = model.__class__.__name__\n",
        "\n",
        "    # 记录训练过程\n",
        "    history = {\n",
        "        'train_loss': [],\n",
        "        'train_acc': [],\n",
        "        'val_loss': [],\n",
        "        'val_acc': []\n",
        "    }\n",
        "\n",
        "    for epoch in range(num_epochs):\n",
        "        # 训练阶段\n",
        "        model.train()\n",
        "        total_loss = 0\n",
        "        correct = 0\n",
        "        total = 0\n",
        "\n",
        "        for texts, labels in tqdm(train_loader, desc=f'Epoch {epoch+1}/{num_epochs}'):\n",
        "            texts, labels = texts.to(device), labels.to(device)\n",
        "\n",
        "            optimizer.zero_grad()\n",
        "            outputs = model(texts)\n",
        "            loss = criterion(outputs, labels)\n",
        "\n",
        "            loss.backward()\n",
        "\n",
        "            # # 添加梯度裁剪\n",
        "            # torch.nn.utils.clip_grad_norm_(model.parameters(), max_norm=1.0)\n",
        "\n",
        "            optimizer.step()\n",
        "\n",
        "            total_loss += loss.item()\n",
        "            _, predicted = outputs.max(1)\n",
        "            total += labels.size(0)\n",
        "            correct += predicted.eq(labels).sum().item()\n",
        "\n",
        "        train_loss = total_loss / len(train_loader)\n",
        "        train_acc = 100. * correct / total\n",
        "\n",
        "        # 验证阶段\n",
        "        model.eval()\n",
        "        val_loss = 0\n",
        "        val_correct = 0\n",
        "        val_total = 0\n",
        "\n",
        "        with torch.no_grad():\n",
        "            for texts, labels in val_loader:\n",
        "                texts, labels = texts.to(device), labels.to(device)\n",
        "                outputs = model(texts)\n",
        "                loss = criterion(outputs, labels)\n",
        "                val_loss += loss.item()\n",
        "                _, predicted = outputs.max(1)\n",
        "                val_total += labels.size(0)\n",
        "                val_correct += predicted.eq(labels).sum().item()\n",
        "\n",
        "        val_loss = val_loss / len(val_loader)\n",
        "        val_acc = 100. * val_correct / val_total\n",
        "\n",
        "        # 记录历史\n",
        "        history['train_loss'].append(train_loss)\n",
        "        history['train_acc'].append(train_acc)\n",
        "        history['val_loss'].append(val_loss)\n",
        "        history['val_acc'].append(val_acc)\n",
        "\n",
        "        print(f'Epoch {epoch+1}: Train Loss: {train_loss:.4f}, Train Acc: {train_acc:.2f}%, '\n",
        "              f'Val Loss: {val_loss:.4f}, Val Acc: {val_acc:.2f}%')\n",
        "\n",
        "        if val_acc > best_val_acc:\n",
        "            best_val_acc = val_acc\n",
        "            # 保存最佳模型\n",
        "            torch.save({\n",
        "                'epoch': epoch,\n",
        "                'model_state_dict': model.state_dict(),\n",
        "                'optimizer_state_dict': optimizer.state_dict(),\n",
        "                'best_val_acc': best_val_acc,\n",
        "                'history': history\n",
        "            }, os.path.join(save_dir, f'best_{model_name}.pth'))\n",
        "\n",
        "    # 绘制训练曲线\n",
        "    plt.figure(figsize=(12, 4))\n",
        "\n",
        "    # 损失曲线\n",
        "    plt.subplot(1, 2, 1)\n",
        "    plt.plot(history['train_loss'], label='Train Loss')\n",
        "    plt.plot(history['val_loss'], label='Val Loss')\n",
        "    plt.title('Loss Curves')\n",
        "    plt.xlabel('Epoch')\n",
        "    plt.ylabel('Loss')\n",
        "    plt.legend()\n",
        "\n",
        "    # 准确率曲线\n",
        "    plt.subplot(1, 2, 2)\n",
        "    plt.plot(history['train_acc'], label='Train Acc')\n",
        "    plt.plot(history['val_acc'], label='Val Acc')\n",
        "    plt.title('Accuracy Curves')\n",
        "    plt.xlabel('Epoch')\n",
        "    plt.ylabel('Accuracy (%)')\n",
        "    plt.legend()\n",
        "\n",
        "    plt.tight_layout()\n",
        "    plt.show()\n",
        "    plt.savefig(os.path.join(save_dir, f'{model_name}_training_curves.png'))\n",
        "    plt.close()\n",
        "\n",
        "    return history"
      ],
      "metadata": {
        "id": "JHPC1vcTMLgd"
      },
      "execution_count": 174,
      "outputs": []
    },
    {
      "cell_type": "code",
      "source": [
        "def predict_sentiment(model, text, word_to_ix, device, max_len=500):\n",
        "    \"\"\"预测文本情感\n",
        "\n",
        "    Args:\n",
        "        model: 加载好的模型\n",
        "        text: 输入文本\n",
        "        word_to_ix: 词到索引的映射\n",
        "        device: 设备\n",
        "        max_len: 最大序列长度\n",
        "\n",
        "    Returns:\n",
        "        sentiment: 情感预测结果（0为负面，1为正面）\n",
        "        probability: 预测概率\n",
        "    \"\"\"\n",
        "    model.eval()\n",
        "    with torch.no_grad():\n",
        "        # 预处理文本\n",
        "        indices = convert_text_to_indices(text, word_to_ix, max_len)\n",
        "        input_tensor = torch.tensor(indices).unsqueeze(0).to(device)\n",
        "\n",
        "        # 预测\n",
        "        outputs = model(input_tensor)\n",
        "        probabilities = torch.softmax(outputs, dim=1)\n",
        "        predicted = torch.argmax(outputs, dim=1)\n",
        "\n",
        "        return predicted.item(), probabilities[0][predicted].item()"
      ],
      "metadata": {
        "id": "YdtbC1NYYLgB"
      },
      "execution_count": 175,
      "outputs": []
    },
    {
      "cell_type": "code",
      "source": [
        "MAX_SAMPLES = 2000  # 每个类别的最大样本数\n",
        "MAX_LEN = 300      # 文本最大长度\n",
        "\n",
        "EMBED_DIM = 200\n",
        "NUM_FILTERS = 128\n",
        "FILTER_SIZES = [3, 4, 5]\n",
        "HIDDEN_DIM = 256\n",
        "NUM_LAYERS = 2\n",
        "NUM_CLASSES = 2\n",
        "BATCH_SIZE = 32\n",
        "NUM_EPOCHS =20\n",
        "LEARNING_RATE = 0.001\n",
        "\n",
        "word_to_ix = None  # 初始化为None"
      ],
      "metadata": {
        "id": "s1CtL0rwZeoG"
      },
      "execution_count": 176,
      "outputs": []
    },
    {
      "cell_type": "code",
      "source": [
        "def main():\n",
        "\n",
        "    global word_to_ix\n",
        "\n",
        "    # 加载数据\n",
        "    print(\"Loading datasets...\")\n",
        "    train_dataset = IMDBDataset(split='train', max_samples=MAX_SAMPLES)\n",
        "    test_dataset = IMDBDataset(split='test', max_samples=MAX_SAMPLES)\n",
        "\n",
        "    # 划分训练集和验证集\n",
        "    train_size = int(0.8 * len(train_dataset))\n",
        "    val_size = len(train_dataset) - train_size\n",
        "    train_dataset, val_dataset = random_split(train_dataset, [train_size, val_size])\n",
        "\n",
        "    # 构建词汇表\n",
        "    word_to_ix = build_vocab([text for text, _ in train_dataset])\n",
        "\n",
        "    # 转换文本为索引\n",
        "    train_indices = [(convert_text_to_indices(text, word_to_ix, MAX_LEN), label)\n",
        "                     for text, label in train_dataset]\n",
        "    val_indices = [(convert_text_to_indices(text, word_to_ix, MAX_LEN), label)\n",
        "                   for text, label in val_dataset]\n",
        "    test_indices = [(convert_text_to_indices(text, word_to_ix, MAX_LEN), label)\n",
        "                    for text, label in test_dataset]\n",
        "\n",
        "    # 创建数据加载器\n",
        "    train_loader = DataLoader(train_indices,\n",
        "                            batch_size=BATCH_SIZE,\n",
        "                            shuffle=True,\n",
        "                            collate_fn=collate_fn)\n",
        "    val_loader = DataLoader(val_indices,\n",
        "                          batch_size=BATCH_SIZE,\n",
        "                          shuffle=False,\n",
        "                          collate_fn=collate_fn)\n",
        "    test_loader = DataLoader(test_indices,\n",
        "                           batch_size=BATCH_SIZE,\n",
        "                           shuffle=False,\n",
        "                           collate_fn=collate_fn)\n",
        "\n",
        "    criterion = nn.CrossEntropyLoss()\n",
        "\n",
        "    # 训练CNN模型\n",
        "    print(\"\\nTraining CNN model...\")\n",
        "    cnn_model = TextCNN(\n",
        "        vocab_size=len(word_to_ix),\n",
        "        embed_dim=EMBED_DIM,\n",
        "        num_filters=NUM_FILTERS,\n",
        "        filter_sizes=FILTER_SIZES,\n",
        "        num_classes=NUM_CLASSES\n",
        "    ).to(device)\n",
        "\n",
        "    optimizer = optim.Adam(cnn_model.parameters(), lr=LEARNING_RATE)\n",
        "\n",
        "    cnn_history = train_model(cnn_model, train_loader, val_loader, criterion, optimizer,\n",
        "                            NUM_EPOCHS, device, save_dir='models')\n",
        "\n",
        "    # 训练LSTM模型\n",
        "    print(\"\\nTraining LSTM model...\")\n",
        "    lstm_model = TextLSTM(\n",
        "        vocab_size=len(word_to_ix),\n",
        "        embed_dim=EMBED_DIM,\n",
        "        hidden_dim=HIDDEN_DIM,\n",
        "        num_classes=NUM_CLASSES,\n",
        "        num_layers=NUM_LAYERS\n",
        "    ).to(device)\n",
        "\n",
        "    optimizer = optim.Adam(lstm_model.parameters(), lr=LEARNING_RATE)\n",
        "\n",
        "    lstm_history = train_model(lstm_model, train_loader, val_loader, criterion, optimizer,\n",
        "                             NUM_EPOCHS, device, save_dir='models')"
      ],
      "metadata": {
        "id": "tA4RPuLKMORA"
      },
      "execution_count": 177,
      "outputs": []
    },
    {
      "cell_type": "code",
      "source": [
        "main()\n",
        "\n",
        "# 加载模型进行预测的示例\n",
        "print(\"\\nLoading models for prediction...\")\n",
        "\n",
        "# 加载CNN模型\n",
        "cnn_checkpoint = torch.load('models/best_TextCNN.pth')\n",
        "cnn_model = TextCNN(\n",
        "    vocab_size=len(word_to_ix),\n",
        "    embed_dim=EMBED_DIM,\n",
        "    num_filters=NUM_FILTERS,\n",
        "    filter_sizes=FILTER_SIZES,\n",
        "    num_classes=NUM_CLASSES\n",
        ").to(device)\n",
        "cnn_model.load_state_dict(cnn_checkpoint['model_state_dict'])\n",
        "\n",
        "# 加载LSTM模型\n",
        "lstm_checkpoint = torch.load('models/best_TextLSTM.pth')\n",
        "lstm_model = TextLSTM(\n",
        "    vocab_size=len(word_to_ix),\n",
        "    embed_dim=EMBED_DIM,\n",
        "    hidden_dim=HIDDEN_DIM,\n",
        "    num_classes=NUM_CLASSES,\n",
        "    num_layers=NUM_LAYERS\n",
        ").to(device)\n",
        "lstm_model.load_state_dict(lstm_checkpoint['model_state_dict'])\n",
        "\n",
        "# 测试预测\n",
        "test_texts = [\n",
        "    \"This movie was absolutely fantastic! I loved every minute of it.\",\n",
        "    \"I really didn't enjoy this film. It was boring and predictable.\",\n",
        "    \"The acting was great, but the plot was a bit confusing.\"\n",
        "]\n",
        "\n",
        "print(\"\\nPredictions:\")\n",
        "for text in test_texts:\n",
        "    print(f\"\\nText: {text}\")\n",
        "    cnn_sentiment, cnn_prob = predict_sentiment(cnn_model, text, word_to_ix, device)\n",
        "    lstm_sentiment, lstm_prob = predict_sentiment(lstm_model, text, word_to_ix, device)\n",
        "    print(f\"CNN: {'Positive' if cnn_sentiment == 1 else 'Negative'} (confidence: {cnn_prob:.2f})\")\n",
        "    print(f\"LSTM: {'Positive' if lstm_sentiment == 1 else 'Negative'} (confidence: {lstm_prob:.2f})\")"
      ],
      "metadata": {
        "colab": {
          "base_uri": "https://localhost:8080/",
          "height": 1000
        },
        "id": "GkASE1MCMRE-",
        "outputId": "7eb68dbc-4787-4bc9-f1ad-53cf05bf7c07"
      },
      "execution_count": 178,
      "outputs": [
        {
          "output_type": "stream",
          "name": "stdout",
          "text": [
            "Loading datasets...\n",
            "\n",
            "Training LSTM model...\n"
          ]
        },
        {
          "output_type": "stream",
          "name": "stderr",
          "text": [
            "Epoch 1/20: 100%|██████████| 50/50 [00:03<00:00, 16.49it/s]\n"
          ]
        },
        {
          "output_type": "stream",
          "name": "stdout",
          "text": [
            "Epoch 1: Train Loss: 0.6975, Train Acc: 49.94%, Val Loss: 0.7019, Val Acc: 46.25%\n"
          ]
        },
        {
          "output_type": "stream",
          "name": "stderr",
          "text": [
            "Epoch 2/20: 100%|██████████| 50/50 [00:02<00:00, 17.84it/s]\n"
          ]
        },
        {
          "output_type": "stream",
          "name": "stdout",
          "text": [
            "Epoch 2: Train Loss: 0.6787, Train Acc: 54.19%, Val Loss: 0.7023, Val Acc: 52.00%\n"
          ]
        },
        {
          "output_type": "stream",
          "name": "stderr",
          "text": [
            "Epoch 3/20: 100%|██████████| 50/50 [00:02<00:00, 17.10it/s]\n"
          ]
        },
        {
          "output_type": "stream",
          "name": "stdout",
          "text": [
            "Epoch 3: Train Loss: 0.6386, Train Acc: 56.69%, Val Loss: 0.7832, Val Acc: 46.25%\n"
          ]
        },
        {
          "output_type": "stream",
          "name": "stderr",
          "text": [
            "Epoch 4/20: 100%|██████████| 50/50 [00:02<00:00, 17.00it/s]\n"
          ]
        },
        {
          "output_type": "stream",
          "name": "stdout",
          "text": [
            "Epoch 4: Train Loss: 0.5766, Train Acc: 60.50%, Val Loss: 0.9086, Val Acc: 48.00%\n"
          ]
        },
        {
          "output_type": "stream",
          "name": "stderr",
          "text": [
            "Epoch 5/20: 100%|██████████| 50/50 [00:02<00:00, 16.79it/s]\n"
          ]
        },
        {
          "output_type": "stream",
          "name": "stdout",
          "text": [
            "Epoch 5: Train Loss: 0.5525, Train Acc: 60.69%, Val Loss: 1.0453, Val Acc: 47.50%\n"
          ]
        },
        {
          "output_type": "stream",
          "name": "stderr",
          "text": [
            "Epoch 6/20: 100%|██████████| 50/50 [00:02<00:00, 17.14it/s]\n"
          ]
        },
        {
          "output_type": "stream",
          "name": "stdout",
          "text": [
            "Epoch 6: Train Loss: 0.5524, Train Acc: 61.81%, Val Loss: 1.0213, Val Acc: 52.50%\n"
          ]
        },
        {
          "output_type": "stream",
          "name": "stderr",
          "text": [
            "Epoch 7/20: 100%|██████████| 50/50 [00:03<00:00, 16.48it/s]\n"
          ]
        },
        {
          "output_type": "stream",
          "name": "stdout",
          "text": [
            "Epoch 7: Train Loss: 0.5465, Train Acc: 62.69%, Val Loss: 1.0762, Val Acc: 47.75%\n"
          ]
        },
        {
          "output_type": "stream",
          "name": "stderr",
          "text": [
            "Epoch 8/20: 100%|██████████| 50/50 [00:02<00:00, 16.70it/s]\n"
          ]
        },
        {
          "output_type": "stream",
          "name": "stdout",
          "text": [
            "Epoch 8: Train Loss: 0.5455, Train Acc: 60.56%, Val Loss: 1.0959, Val Acc: 47.50%\n"
          ]
        },
        {
          "output_type": "stream",
          "name": "stderr",
          "text": [
            "Epoch 9/20: 100%|██████████| 50/50 [00:03<00:00, 16.55it/s]\n"
          ]
        },
        {
          "output_type": "stream",
          "name": "stdout",
          "text": [
            "Epoch 9: Train Loss: 0.5417, Train Acc: 62.00%, Val Loss: 1.1785, Val Acc: 53.25%\n"
          ]
        },
        {
          "output_type": "stream",
          "name": "stderr",
          "text": [
            "Epoch 10/20: 100%|██████████| 50/50 [00:02<00:00, 16.74it/s]\n"
          ]
        },
        {
          "output_type": "stream",
          "name": "stdout",
          "text": [
            "Epoch 10: Train Loss: 0.5410, Train Acc: 61.50%, Val Loss: 1.2319, Val Acc: 47.00%\n"
          ]
        },
        {
          "output_type": "stream",
          "name": "stderr",
          "text": [
            "Epoch 11/20: 100%|██████████| 50/50 [00:03<00:00, 16.46it/s]\n"
          ]
        },
        {
          "output_type": "stream",
          "name": "stdout",
          "text": [
            "Epoch 11: Train Loss: 0.5397, Train Acc: 62.44%, Val Loss: 1.2303, Val Acc: 47.25%\n"
          ]
        },
        {
          "output_type": "stream",
          "name": "stderr",
          "text": [
            "Epoch 12/20: 100%|██████████| 50/50 [00:03<00:00, 16.47it/s]\n"
          ]
        },
        {
          "output_type": "stream",
          "name": "stdout",
          "text": [
            "Epoch 12: Train Loss: 0.5394, Train Acc: 62.50%, Val Loss: 1.2709, Val Acc: 48.00%\n"
          ]
        },
        {
          "output_type": "stream",
          "name": "stderr",
          "text": [
            "Epoch 13/20: 100%|██████████| 50/50 [00:03<00:00, 14.56it/s]\n"
          ]
        },
        {
          "output_type": "stream",
          "name": "stdout",
          "text": [
            "Epoch 13: Train Loss: 0.5377, Train Acc: 61.25%, Val Loss: 1.3497, Val Acc: 47.25%\n"
          ]
        },
        {
          "output_type": "stream",
          "name": "stderr",
          "text": [
            "Epoch 14/20: 100%|██████████| 50/50 [00:03<00:00, 16.46it/s]\n"
          ]
        },
        {
          "output_type": "stream",
          "name": "stdout",
          "text": [
            "Epoch 14: Train Loss: 0.5412, Train Acc: 59.81%, Val Loss: 1.3281, Val Acc: 52.75%\n"
          ]
        },
        {
          "output_type": "stream",
          "name": "stderr",
          "text": [
            "Epoch 15/20: 100%|██████████| 50/50 [00:02<00:00, 16.69it/s]\n"
          ]
        },
        {
          "output_type": "stream",
          "name": "stdout",
          "text": [
            "Epoch 15: Train Loss: 0.5625, Train Acc: 59.31%, Val Loss: 1.0622, Val Acc: 46.75%\n"
          ]
        },
        {
          "output_type": "stream",
          "name": "stderr",
          "text": [
            "Epoch 16/20: 100%|██████████| 50/50 [00:03<00:00, 16.52it/s]\n"
          ]
        },
        {
          "output_type": "stream",
          "name": "stdout",
          "text": [
            "Epoch 16: Train Loss: 0.5593, Train Acc: 61.75%, Val Loss: 1.0021, Val Acc: 46.75%\n"
          ]
        },
        {
          "output_type": "stream",
          "name": "stderr",
          "text": [
            "Epoch 17/20: 100%|██████████| 50/50 [00:02<00:00, 17.02it/s]\n"
          ]
        },
        {
          "output_type": "stream",
          "name": "stdout",
          "text": [
            "Epoch 17: Train Loss: 0.5413, Train Acc: 61.00%, Val Loss: 1.0941, Val Acc: 44.75%\n"
          ]
        },
        {
          "output_type": "stream",
          "name": "stderr",
          "text": [
            "Epoch 18/20: 100%|██████████| 50/50 [00:03<00:00, 16.47it/s]\n"
          ]
        },
        {
          "output_type": "stream",
          "name": "stdout",
          "text": [
            "Epoch 18: Train Loss: 0.5367, Train Acc: 61.19%, Val Loss: 1.1661, Val Acc: 46.50%\n"
          ]
        },
        {
          "output_type": "stream",
          "name": "stderr",
          "text": [
            "Epoch 19/20: 100%|██████████| 50/50 [00:03<00:00, 16.48it/s]\n"
          ]
        },
        {
          "output_type": "stream",
          "name": "stdout",
          "text": [
            "Epoch 19: Train Loss: 0.5345, Train Acc: 63.25%, Val Loss: 1.2103, Val Acc: 45.75%\n"
          ]
        },
        {
          "output_type": "stream",
          "name": "stderr",
          "text": [
            "Epoch 20/20: 100%|██████████| 50/50 [00:03<00:00, 16.58it/s]\n"
          ]
        },
        {
          "output_type": "stream",
          "name": "stdout",
          "text": [
            "Epoch 20: Train Loss: 0.5345, Train Acc: 62.81%, Val Loss: 1.2394, Val Acc: 44.50%\n"
          ]
        },
        {
          "output_type": "display_data",
          "data": {
            "text/plain": [
              "<Figure size 1200x400 with 2 Axes>"
            ],
            "image/png": "[encoded data removed]"
          },
          "metadata": {}
        },
        {
          "output_type": "stream",
          "name": "stdout",
          "text": [
            "\n",
            "Loading models for prediction...\n"
          ]
        },
        {
          "output_type": "error",
          "ename": "RuntimeError",
          "evalue": "Error(s) in loading state_dict for TextCNN:\n\tsize mismatch for embedding.weight: copying a param with shape torch.Size([6043, 200]) from checkpoint, the shape in current model is torch.Size([6037, 200]).",
          "traceback": [
            "\u001b[0;31m---------------------------------------------------------------------------\u001b[0m",
            "\u001b[0;31mRuntimeError\u001b[0m                              Traceback (most recent call last)",
            "\u001b[0;32m<ipython-input-178-643508ae6670>\u001b[0m in \u001b[0;36m<cell line: 0>\u001b[0;34m()\u001b[0m\n\u001b[1;32m     13\u001b[0m     \u001b[0mnum_classes\u001b[0m\u001b[0;34m=\u001b[0m\u001b[0mNUM_CLASSES\u001b[0m\u001b[0;34m\u001b[0m\u001b[0;34m\u001b[0m\u001b[0m\n\u001b[1;32m     14\u001b[0m ).to(device)\n\u001b[0;32m---> 15\u001b[0;31m \u001b[0mcnn_model\u001b[0m\u001b[0;34m.\u001b[0m\u001b[0mload_state_dict\u001b[0m\u001b[0;34m(\u001b[0m\u001b[0mcnn_checkpoint\u001b[0m\u001b[0;34m[\u001b[0m\u001b[0;34m'model_state_dict'\u001b[0m\u001b[0;34m]\u001b[0m\u001b[0;34m)\u001b[0m\u001b[0;34m\u001b[0m\u001b[0;34m\u001b[0m\u001b[0m\n\u001b[0m\u001b[1;32m     16\u001b[0m \u001b[0;34m\u001b[0m\u001b[0m\n\u001b[1;32m     17\u001b[0m \u001b[0;31m# 加载LSTM模型\u001b[0m\u001b[0;34m\u001b[0m\u001b[0;34m\u001b[0m\u001b[0m\n",
            "\u001b[0;32m/usr/local/lib/python3.11/dist-packages/torch/nn/modules/module.py\u001b[0m in \u001b[0;36mload_state_dict\u001b[0;34m(self, state_dict, strict, assign)\u001b[0m\n\u001b[1;32m   2579\u001b[0m \u001b[0;34m\u001b[0m\u001b[0m\n\u001b[1;32m   2580\u001b[0m         \u001b[0;32mif\u001b[0m \u001b[0mlen\u001b[0m\u001b[0;34m(\u001b[0m\u001b[0merror_msgs\u001b[0m\u001b[0;34m)\u001b[0m \u001b[0;34m>\u001b[0m \u001b[0;36m0\u001b[0m\u001b[0;34m:\u001b[0m\u001b[0;34m\u001b[0m\u001b[0;34m\u001b[0m\u001b[0m\n\u001b[0;32m-> 2581\u001b[0;31m             raise RuntimeError(\n\u001b[0m\u001b[1;32m   2582\u001b[0m                 \"Error(s) in loading state_dict for {}:\\n\\t{}\".format(\n\u001b[1;32m   2583\u001b[0m                     \u001b[0mself\u001b[0m\u001b[0;34m.\u001b[0m\u001b[0m__class__\u001b[0m\u001b[0;34m.\u001b[0m\u001b[0m__name__\u001b[0m\u001b[0;34m,\u001b[0m \u001b[0;34m\"\\n\\t\"\u001b[0m\u001b[0;34m.\u001b[0m\u001b[0mjoin\u001b[0m\u001b[0;34m(\u001b[0m\u001b[0merror_msgs\u001b[0m\u001b[0;34m)\u001b[0m\u001b[0;34m\u001b[0m\u001b[0;34m\u001b[0m\u001b[0m\n",
            "\u001b[0;31mRuntimeError\u001b[0m: Error(s) in loading state_dict for TextCNN:\n\tsize mismatch for embedding.weight: copying a param with shape torch.Size([6043, 200]) from checkpoint, the shape in current model is torch.Size([6037, 200])."
          ]
        }
      ]
    },
    {
      "cell_type": "markdown",
      "source": [
        "- 为什么LSTM比CNN慢？\n",
        "- 如果用上了GPU，对LSTM是否有加速效果？\n",
        "- 为什么mean over time对LSTM很重要\n",
        "- 保存的模型文件后缀一定得是.pth吗？还是只是一种习惯"
      ],
      "metadata": {
        "id": "4zwUJl5hjTOg"
      }
    },
    {
      "cell_type": "code",
      "source": [],
      "metadata": {
        "id": "QYk0mQrfMWJb"
      },
      "execution_count": 132,
      "outputs": []
    }
  ]
}