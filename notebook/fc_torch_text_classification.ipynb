{
 "cells": [
  {
   "attachments": {},
   "cell_type": "markdown",
   "id": "75663f0f-3216-4915-92b1-a0c33b8a9943",
   "metadata": {},
   "source": [
    "# 使用全连接神经网络进行中文文本分类\n",
    "\n",
    "这是一个使用全连接神经网络进行中文文本分类的简易教程，是用的深度学习框架是pytorch，数据是豆瓣读书评论数据:https://www.kaggle.com/datasets/tsaing/douban-book-review"
   ]
  },
  {
   "cell_type": "markdown",
   "id": "b73d4520-88e4-4dd0-93d0-e58c50e9811d",
   "metadata": {},
   "source": [
    "## 安装pytorch\n",
    "由于本例子中不会使用高级的pytorch库函数，因此使用简单的`pip install torch`进行安装。\n",
    "\n",
    "如果你的项目对pytorch版本有要求，或者你的设备对一些版本不支持，请参考官方安装指南：\n",
    "https://pytorch.org/get-started/locally/\n",
    "\n",
    "在jupyter notebook中，可以将cell设置为代码模式，一般情况下只有python代码可以运行，但如果在最开头加上英文感叹号`!`则可以运行命令行指令，因此这里可以直接在jupyter notebook中安装pytorch。安装的虚拟环境就是你当钱jupyter notebook所使用的虚拟环境，可以在notebook右上方选择或切换虚拟环境。\n",
    "\n",
    "注：因为这个笔记本的运行环境还没有下载任何包，因此下面也顺便安装其他需要使用的包。"
   ]
  },
  {
   "cell_type": "code",
   "execution_count": 1,
   "id": "d81febd8-a0cc-496c-9618-ce7ff96f41ac",
   "metadata": {
    "tags": []
   },
   "outputs": [],
   "source": [
    "# !pip install numpy\n",
    "# !pip install pandas\n",
    "# !pip install scipy\n",
    "# !pip install sklearn\n",
    "# !pip install torch"
   ]
  },
  {
   "cell_type": "code",
   "execution_count": 2,
   "id": "6394db48-0aa9-4cdf-843c-49cd4580ee0b",
   "metadata": {},
   "outputs": [],
   "source": [
    "# 调包\n",
    "import numpy as np\n",
    "import pandas as pd\n",
    "import torch\n",
    "import torch.nn as nn # 这一行不是必要的，有了上一行，之后可以通过`torch.nn`来调用，但是为了简短，再给他一个小名`nn`"
   ]
  },
  {
   "cell_type": "code",
   "execution_count": 3,
   "id": "d14d2763-0a32-4b4a-b78c-ee71504c123e",
   "metadata": {},
   "outputs": [
    {
     "name": "stdout",
     "output_type": "stream",
     "text": [
      "1.23.4\n",
      "1.4.4\n",
      "1.10.2\n"
     ]
    }
   ],
   "source": [
    "# 检查一下是否可以正常使用\n",
    "print(np.__version__)\n",
    "print(pd.__version__)\n",
    "print(torch.__version__)"
   ]
  },
  {
   "cell_type": "markdown",
   "id": "061fde5a-df3c-423a-b99b-e3196e799a7f",
   "metadata": {},
   "source": [
    "## 数据准备\n",
    "\n",
    "1. 导入数据为`pandas.DataFrame`\n",
    "2. 观察数据的基本情况\n",
    "3. 按照数据格式，继承`torch.utils.data.Dataset`类，写出自己的数据集类\n",
    "4. 直接使用`torch.utils.data.DataLoader`类，实例化一个自己的数据载入类"
   ]
  },
  {
   "cell_type": "markdown",
   "id": "3316000d-142b-436e-9495-be93672cf549",
   "metadata": {},
   "source": [
    "### 导入数据"
   ]
  },
  {
   "cell_type": "code",
   "execution_count": 4,
   "id": "26f3efb3-40ca-4957-b98b-60e6207b9938",
   "metadata": {},
   "outputs": [],
   "source": [
    "data_dir = './data/'"
   ]
  },
  {
   "cell_type": "code",
   "execution_count": 5,
   "id": "aa76f453-a32d-41bb-8e62-fbdf9d7dedaf",
   "metadata": {},
   "outputs": [],
   "source": [
    "# 这个文件有一些读取问题，这里采用下面链接中提到的解决方法：\n",
    "# https://stackoverflow.com/questions/18016037/pandas-parsererror-eof-character-when-reading-multiple-csv-files-to-hdf5\n",
    "import csv"
   ]
  },
  {
   "cell_type": "code",
   "execution_count": 6,
   "id": "91b5e5f1-3d38-4142-a619-87a84c0d7eb3",
   "metadata": {},
   "outputs": [],
   "source": [
    "train_df = pd.read_csv(f'{data_dir}/train.tsv', sep='\\t', encoding='utf-8', quoting=csv.QUOTE_NONE)\n",
    "dev_df = pd.read_csv(f'{data_dir}/dev.tsv', sep='\\t', encoding='utf-8', quoting=csv.QUOTE_NONE)\n",
    "test_df = pd.read_csv(f'{data_dir}/test.tsv', sep='\\t', encoding='utf-8', quoting=csv.QUOTE_NONE)"
   ]
  },
  {
   "cell_type": "markdown",
   "id": "3189fe41-ed31-43f1-8370-e93147c2ffed",
   "metadata": {},
   "source": [
    "### 观察数据"
   ]
  },
  {
   "cell_type": "code",
   "execution_count": 7,
   "id": "28af1504-253e-4eca-8063-66e37eb13824",
   "metadata": {},
   "outputs": [
    {
     "name": "stdout",
     "output_type": "stream",
     "text": [
      "===================\n",
      "train_df.head()\n",
      "   label                                             text_a\n",
      "0      0  都是些没用的鸡汤，基本没帮助。但是其中对于钟摆的理论令人深思，市场总是有自己的运作周期，最危...\n",
      "1      0  挺好奇给这书打五星的读者群……心理学导论放了一段审问王明阳的电视剧片段，看了小说发现那段简直...\n",
      "2      0                                           还能再啰嗦一点吗\n",
      "3      0                                 没忍住一定打个较差……平时都不打分的\n",
      "4      1       一本书很难将22个月，10公里的的旅程说清，其中的美妙与艰辛，需要我放下自己去经历体会。\n",
      "===================\n",
      "dev_df.head()\n",
      "   label                                             text_a\n",
      "0      1  怎么说呢，“这已经不是文学了，而是改造犯人的刑罚”，至少每个自己（并非每个人）都会有自己的地...\n",
      "1      1                                      第一次体会文字上的极简主义\n",
      "2      1                                               莱维的书\n",
      "3      1                                            逻辑结构的历史\n",
      "4      0                   挺没有意思的一本书，总觉得韩寒这人吧，老这样写小说真的挺没劲的。\n",
      "===================\n",
      "test_df.head()\n",
      "   label                                             text_a\n",
      "0      0  情欲，暗面，无爱。当然了，一些不堪的情欲确实存在于人身体里，有时候或者哪天会蹦出来撕扯。但我...\n",
      "1      0  看到1/3的地方我安利了所有的朋友，看完以后我收回我的推荐。因为这根本就是《童年终结》的无穷...\n",
      "2      1                                           小桃，我读过这本\n",
      "3      1  不愧是陀爷啊，在那个时代就已经深深揭露出现代社会知识分子的内心矛盾与文人艺术家们同社会的分裂...\n",
      "4      0                少女情怀发chun的时候可以看看，借了丽江的名号啊，可惜了那么美的书名\n"
     ]
    }
   ],
   "source": [
    "print('===================')\n",
    "print('train_df.head()')\n",
    "print(train_df.head())\n",
    "print('===================')\n",
    "print('dev_df.head()')\n",
    "print(dev_df.head())\n",
    "print('===================')\n",
    "print('test_df.head()')\n",
    "print(test_df.head())"
   ]
  },
  {
   "cell_type": "markdown",
   "id": "459f61ca-fbf4-4f06-b263-63ce0aaa7be3",
   "metadata": {},
   "source": [
    "**可以发现这里文本的一列叫做`text_a`，如果有强迫症可以改一下**"
   ]
  },
  {
   "cell_type": "code",
   "execution_count": 8,
   "id": "12a9c44d-7895-4705-8472-2026dfff082a",
   "metadata": {},
   "outputs": [],
   "source": [
    "train_df.rename(columns={\"text_a\": \"text\"}, inplace=True)\n",
    "dev_df.rename(columns={\"text_a\": \"text\"}, inplace=True)\n",
    "test_df.rename(columns={\"text_a\": \"text\"}, inplace=True)"
   ]
  },
  {
   "cell_type": "markdown",
   "id": "4273a026-9cc2-45c6-8a36-10ccc3f7c599",
   "metadata": {},
   "source": [
    "**再看一眼发现确实变了，很好**"
   ]
  },
  {
   "cell_type": "code",
   "execution_count": 9,
   "id": "3634d75d-0f81-473f-97fd-b22f04b5e551",
   "metadata": {},
   "outputs": [
    {
     "name": "stdout",
     "output_type": "stream",
     "text": [
      "===================\n",
      "train_df.head()\n",
      "   label                                               text\n",
      "0      0  都是些没用的鸡汤，基本没帮助。但是其中对于钟摆的理论令人深思，市场总是有自己的运作周期，最危...\n",
      "1      0  挺好奇给这书打五星的读者群……心理学导论放了一段审问王明阳的电视剧片段，看了小说发现那段简直...\n",
      "2      0                                           还能再啰嗦一点吗\n",
      "3      0                                 没忍住一定打个较差……平时都不打分的\n",
      "4      1       一本书很难将22个月，10公里的的旅程说清，其中的美妙与艰辛，需要我放下自己去经历体会。\n",
      "===================\n",
      "dev_df.head()\n",
      "   label                                               text\n",
      "0      1  怎么说呢，“这已经不是文学了，而是改造犯人的刑罚”，至少每个自己（并非每个人）都会有自己的地...\n",
      "1      1                                      第一次体会文字上的极简主义\n",
      "2      1                                               莱维的书\n",
      "3      1                                            逻辑结构的历史\n",
      "4      0                   挺没有意思的一本书，总觉得韩寒这人吧，老这样写小说真的挺没劲的。\n",
      "===================\n",
      "test_df.head()\n",
      "   label                                               text\n",
      "0      0  情欲，暗面，无爱。当然了，一些不堪的情欲确实存在于人身体里，有时候或者哪天会蹦出来撕扯。但我...\n",
      "1      0  看到1/3的地方我安利了所有的朋友，看完以后我收回我的推荐。因为这根本就是《童年终结》的无穷...\n",
      "2      1                                           小桃，我读过这本\n",
      "3      1  不愧是陀爷啊，在那个时代就已经深深揭露出现代社会知识分子的内心矛盾与文人艺术家们同社会的分裂...\n",
      "4      0                少女情怀发chun的时候可以看看，借了丽江的名号啊，可惜了那么美的书名\n"
     ]
    }
   ],
   "source": [
    "print('===================')\n",
    "print('train_df.head()')\n",
    "print(train_df.head())\n",
    "print('===================')\n",
    "print('dev_df.head()')\n",
    "print(dev_df.head())\n",
    "print('===================')\n",
    "print('test_df.head()')\n",
    "print(test_df.head())"
   ]
  },
  {
   "attachments": {},
   "cell_type": "markdown",
   "id": "65f01e8a-7f24-4ed8-9cc7-b0256f4611e9",
   "metadata": {},
   "source": [
    "**看一下标签的分布**\n",
    "\n",
    "`pandas.DataFrame.describe()`返回一个`pandas.DataFrame`，记录着数据类型为`numeric`和`object`的列的基本统计信息，这里将三个数据框的统计信息合并起来显示。注意默认情况下，`pandas.DataFrame.describe()`只会显示`numeric`类型的列的统计信息，正好这里我们只想看`label`这一列的信息，如果还想看`text`列的信息则需要将`include='all'`传入。"
   ]
  },
  {
   "cell_type": "code",
   "execution_count": 10,
   "id": "17a3ff79",
   "metadata": {},
   "outputs": [
    {
     "data": {
      "text/plain": [
       "label     int64\n",
       "text     object\n",
       "dtype: object"
      ]
     },
     "execution_count": 10,
     "metadata": {},
     "output_type": "execute_result"
    }
   ],
   "source": [
    "train_df.dtypes"
   ]
  },
  {
   "cell_type": "code",
   "execution_count": 11,
   "id": "6a8938ff",
   "metadata": {},
   "outputs": [
    {
     "data": {
      "text/plain": [
       "count    20000.000000\n",
       "mean         0.489050\n",
       "std          0.499893\n",
       "min          0.000000\n",
       "25%          0.000000\n",
       "50%          0.000000\n",
       "75%          1.000000\n",
       "max          1.000000\n",
       "Name: label, dtype: float64"
      ]
     },
     "execution_count": 11,
     "metadata": {},
     "output_type": "execute_result"
    }
   ],
   "source": [
    "train_df['label'].describe()"
   ]
  },
  {
   "cell_type": "code",
   "execution_count": 12,
   "id": "ee4f7a4b",
   "metadata": {},
   "outputs": [
    {
     "data": {
      "text/html": [
       "<div>\n",
       "<style scoped>\n",
       "    .dataframe tbody tr th:only-of-type {\n",
       "        vertical-align: middle;\n",
       "    }\n",
       "\n",
       "    .dataframe tbody tr th {\n",
       "        vertical-align: top;\n",
       "    }\n",
       "\n",
       "    .dataframe thead th {\n",
       "        text-align: right;\n",
       "    }\n",
       "</style>\n",
       "<table border=\"1\" class=\"dataframe\">\n",
       "  <thead>\n",
       "    <tr style=\"text-align: right;\">\n",
       "      <th></th>\n",
       "      <th>label</th>\n",
       "      <th>text</th>\n",
       "    </tr>\n",
       "  </thead>\n",
       "  <tbody>\n",
       "    <tr>\n",
       "      <th>count</th>\n",
       "      <td>20000.000000</td>\n",
       "      <td>20000</td>\n",
       "    </tr>\n",
       "    <tr>\n",
       "      <th>unique</th>\n",
       "      <td>NaN</td>\n",
       "      <td>19034</td>\n",
       "    </tr>\n",
       "    <tr>\n",
       "      <th>top</th>\n",
       "      <td>NaN</td>\n",
       "      <td>N</td>\n",
       "    </tr>\n",
       "    <tr>\n",
       "      <th>freq</th>\n",
       "      <td>NaN</td>\n",
       "      <td>216</td>\n",
       "    </tr>\n",
       "    <tr>\n",
       "      <th>mean</th>\n",
       "      <td>0.489050</td>\n",
       "      <td>NaN</td>\n",
       "    </tr>\n",
       "    <tr>\n",
       "      <th>std</th>\n",
       "      <td>0.499893</td>\n",
       "      <td>NaN</td>\n",
       "    </tr>\n",
       "    <tr>\n",
       "      <th>min</th>\n",
       "      <td>0.000000</td>\n",
       "      <td>NaN</td>\n",
       "    </tr>\n",
       "    <tr>\n",
       "      <th>25%</th>\n",
       "      <td>0.000000</td>\n",
       "      <td>NaN</td>\n",
       "    </tr>\n",
       "    <tr>\n",
       "      <th>50%</th>\n",
       "      <td>0.000000</td>\n",
       "      <td>NaN</td>\n",
       "    </tr>\n",
       "    <tr>\n",
       "      <th>75%</th>\n",
       "      <td>1.000000</td>\n",
       "      <td>NaN</td>\n",
       "    </tr>\n",
       "    <tr>\n",
       "      <th>max</th>\n",
       "      <td>1.000000</td>\n",
       "      <td>NaN</td>\n",
       "    </tr>\n",
       "  </tbody>\n",
       "</table>\n",
       "</div>"
      ],
      "text/plain": [
       "               label   text\n",
       "count   20000.000000  20000\n",
       "unique           NaN  19034\n",
       "top              NaN      N\n",
       "freq             NaN    216\n",
       "mean        0.489050    NaN\n",
       "std         0.499893    NaN\n",
       "min         0.000000    NaN\n",
       "25%         0.000000    NaN\n",
       "50%         0.000000    NaN\n",
       "75%         1.000000    NaN\n",
       "max         1.000000    NaN"
      ]
     },
     "execution_count": 12,
     "metadata": {},
     "output_type": "execute_result"
    }
   ],
   "source": [
    "train_df.describe(include='all')"
   ]
  },
  {
   "cell_type": "code",
   "execution_count": 13,
   "id": "08bd4f15-63e9-43f8-b655-6782a3f17ec4",
   "metadata": {},
   "outputs": [
    {
     "data": {
      "text/html": [
       "<div>\n",
       "<style scoped>\n",
       "    .dataframe tbody tr th:only-of-type {\n",
       "        vertical-align: middle;\n",
       "    }\n",
       "\n",
       "    .dataframe tbody tr th {\n",
       "        vertical-align: top;\n",
       "    }\n",
       "\n",
       "    .dataframe thead th {\n",
       "        text-align: right;\n",
       "    }\n",
       "</style>\n",
       "<table border=\"1\" class=\"dataframe\">\n",
       "  <thead>\n",
       "    <tr style=\"text-align: right;\">\n",
       "      <th></th>\n",
       "      <th>train_label</th>\n",
       "      <th>dev_label</th>\n",
       "      <th>test_label</th>\n",
       "    </tr>\n",
       "  </thead>\n",
       "  <tbody>\n",
       "    <tr>\n",
       "      <th>count</th>\n",
       "      <td>20000.000000</td>\n",
       "      <td>10000.000000</td>\n",
       "      <td>10000.000000</td>\n",
       "    </tr>\n",
       "    <tr>\n",
       "      <th>mean</th>\n",
       "      <td>0.489050</td>\n",
       "      <td>0.481200</td>\n",
       "      <td>0.489000</td>\n",
       "    </tr>\n",
       "    <tr>\n",
       "      <th>std</th>\n",
       "      <td>0.499893</td>\n",
       "      <td>0.499671</td>\n",
       "      <td>0.499904</td>\n",
       "    </tr>\n",
       "    <tr>\n",
       "      <th>min</th>\n",
       "      <td>0.000000</td>\n",
       "      <td>0.000000</td>\n",
       "      <td>0.000000</td>\n",
       "    </tr>\n",
       "    <tr>\n",
       "      <th>25%</th>\n",
       "      <td>0.000000</td>\n",
       "      <td>0.000000</td>\n",
       "      <td>0.000000</td>\n",
       "    </tr>\n",
       "    <tr>\n",
       "      <th>50%</th>\n",
       "      <td>0.000000</td>\n",
       "      <td>0.000000</td>\n",
       "      <td>0.000000</td>\n",
       "    </tr>\n",
       "    <tr>\n",
       "      <th>75%</th>\n",
       "      <td>1.000000</td>\n",
       "      <td>1.000000</td>\n",
       "      <td>1.000000</td>\n",
       "    </tr>\n",
       "    <tr>\n",
       "      <th>max</th>\n",
       "      <td>1.000000</td>\n",
       "      <td>1.000000</td>\n",
       "      <td>1.000000</td>\n",
       "    </tr>\n",
       "  </tbody>\n",
       "</table>\n",
       "</div>"
      ],
      "text/plain": [
       "        train_label     dev_label    test_label\n",
       "count  20000.000000  10000.000000  10000.000000\n",
       "mean       0.489050      0.481200      0.489000\n",
       "std        0.499893      0.499671      0.499904\n",
       "min        0.000000      0.000000      0.000000\n",
       "25%        0.000000      0.000000      0.000000\n",
       "50%        0.000000      0.000000      0.000000\n",
       "75%        1.000000      1.000000      1.000000\n",
       "max        1.000000      1.000000      1.000000"
      ]
     },
     "execution_count": 13,
     "metadata": {},
     "output_type": "execute_result"
    }
   ],
   "source": [
    "pd.concat([\n",
    "    train_df.describe().rename(columns={'label': 'train_label'}), \n",
    "    dev_df.describe().rename(columns={'label': 'dev_label'}), \n",
    "    test_df.describe().rename(columns={'label': 'test_label'})\n",
    "], axis=1)"
   ]
  },
  {
   "cell_type": "markdown",
   "id": "4933534d-cb32-49e1-8ca0-03b3789bc2a8",
   "metadata": {},
   "source": [
    "很好，`P:N = 1:1`，`train:dev:test = 2:1:1`"
   ]
  },
  {
   "cell_type": "markdown",
   "id": "7ee42016-e410-4fff-bf8c-4b5e179e7bee",
   "metadata": {},
   "source": [
    "## 自定义Dataset并实例化Dataloader"
   ]
  },
  {
   "cell_type": "code",
   "execution_count": 14,
   "id": "b6ac5847-3b80-437f-835d-c502c857cf47",
   "metadata": {},
   "outputs": [],
   "source": [
    "# !pip install jieba"
   ]
  },
  {
   "cell_type": "code",
   "execution_count": 15,
   "id": "c2fd0de9-b4e0-4ba0-85a4-a5886ad9b0df",
   "metadata": {},
   "outputs": [],
   "source": [
    "import jieba\n",
    "from torch.utils.data import Dataset, DataLoader\n",
    "from sklearn.feature_extraction.text import CountVectorizer, TfidfTransformer"
   ]
  },
  {
   "cell_type": "code",
   "execution_count": 16,
   "id": "77a2235a",
   "metadata": {},
   "outputs": [],
   "source": [
    "# dir(CountVectorizer)\n",
    "# help(CountVectorizer)"
   ]
  },
  {
   "cell_type": "code",
   "execution_count": 17,
   "id": "19eb774c",
   "metadata": {},
   "outputs": [
    {
     "name": "stderr",
     "output_type": "stream",
     "text": [
      "Building prefix dict from the default dictionary ...\n",
      "Loading model from cache /var/folders/4w/9d88s6ps19xd483mnb5cvsm40000gn/T/jieba.cache\n",
      "Loading model cost 0.266 seconds.\n",
      "Prefix dict has been built successfully.\n"
     ]
    }
   ],
   "source": [
    "# 使用sklearn.pipeline.Pipeline来构建一个抽取文本特征的流水线\n",
    "from sklearn.pipeline import Pipeline\n",
    "\n",
    "# 1. jieba分词\n",
    "# 2. CountVectorizer\n",
    "# 3. TfidfTransformer\n",
    "text_feature_extractor = Pipeline([\n",
    "    ('count_vectorizer', CountVectorizer(ngram_range=(1, 1),\n",
    "                                         analyzer='word',\n",
    "                                         min_df=2,\n",
    "                                         token_pattern='[\\w，。？！；、]+')),\n",
    "    ('tfidf_transformer', TfidfTransformer())\n",
    "])\n",
    "\n",
    "# 用训练集来训练特征抽取器\n",
    "vectorizer = text_feature_extractor.fit([' '.join(jieba.lcut(text)) for text in train_df['text']])\n"
   ]
  },
  {
   "cell_type": "code",
   "execution_count": 18,
   "id": "8e95eed7-200c-4bf6-96e1-3c41f99d61d4",
   "metadata": {},
   "outputs": [],
   "source": [
    "class DoubanDataset(torch.utils.data.Dataset):\n",
    "    \n",
    "    def __init__(self, dataframe, vectorizer):\n",
    "        '''\n",
    "        ------\n",
    "        魔法方法`__init__`通常用在初始化一个类实例时使用。\n",
    "        它用于初始化一个新实例，控制这个初始化的过程，\n",
    "        比如添加一些属性， 做一些额外的操作，发生在类实例被创建完以后。它是实例级别的方法。        \n",
    "        ------\n",
    "        这里的意思是需要在实例化一个`DoubanDataset`类的对象是传入dataframe（self可以暂时不用管，可认为是必须要写的），\n",
    "        接收到传入的dataframe后就会根据传入的dataframe来取里面的相关列并作后续处理，如构建文本的tfidf表示\n",
    "        '''\n",
    "        self.df = dataframe\n",
    "        # add test as a parameter\n",
    "        self.texts = self.df['text']\n",
    "        self.labels = self.df['label']\n",
    "\n",
    "        self.segments = []\n",
    "        for text in self.texts:\n",
    "            self.segments.append(' '.join(jieba.lcut(text)))\n",
    "\n",
    "        self.tfidf_dim = len(vectorizer['count_vectorizer'].get_feature_names_out())\n",
    "            \n",
    "        # 构建词的 TF-IDF 表示\n",
    "        word_tfidf = vectorizer.transform(self.segments).toarray()  # 稀疏向量*tfidf权重后的压缩矩阵 <class 'scipy.sparse.csr.csr_matrix'>\n",
    "        self.df['tfidf_vector'] = [vector.tolist() for vector in word_tfidf]\n",
    "        self.tfidf_vector = self.df['tfidf_vector']\n",
    "        \n",
    "\n",
    "    def __len__(self):\n",
    "        return len(self.texts)\n",
    "    \n",
    "    \n",
    "    def __getitem__(self, idx):\n",
    "        # 返回文本的tfidf表示和对应的标签\n",
    "        # 注意要转化为torch.tensor\n",
    "        return (\n",
    "            torch.tensor(self.tfidf_vector[idx], dtype=torch.float32),\n",
    "            torch.tensor(self.labels[idx], dtype=torch.long)\n",
    "        )"
   ]
  },
  {
   "cell_type": "code",
   "execution_count": 19,
   "id": "3492e7a2-dd6b-4e5a-ac77-c2f61cdb89d5",
   "metadata": {},
   "outputs": [],
   "source": [
    "train_set = DoubanDataset(train_df, vectorizer)\n",
    "dev_set = DoubanDataset(dev_df, vectorizer)\n",
    "test_set = DoubanDataset(test_df, vectorizer)"
   ]
  },
  {
   "cell_type": "code",
   "execution_count": 20,
   "id": "12a97bb2",
   "metadata": {},
   "outputs": [
    {
     "name": "stdout",
     "output_type": "stream",
     "text": [
      "16780\n",
      "16780\n",
      "16780\n"
     ]
    }
   ],
   "source": [
    "print(train_set.tfidf_dim)\n",
    "print(dev_set.tfidf_dim)\n",
    "print(test_set.tfidf_dim)"
   ]
  },
  {
   "cell_type": "code",
   "execution_count": 21,
   "id": "6d2c71eb-8abe-471e-95d0-9be0cdc4c0c2",
   "metadata": {},
   "outputs": [],
   "source": [
    "train_loader = torch.utils.data.DataLoader(train_set, shuffle=True, batch_size=64)\n",
    "dev_loader = torch.utils.data.DataLoader(dev_set, shuffle=False, batch_size=64)\n",
    "test_loader = torch.utils.data.DataLoader(test_set, shuffle=False, batch_size=64)"
   ]
  },
  {
   "cell_type": "code",
   "execution_count": 22,
   "id": "94cfa40e",
   "metadata": {},
   "outputs": [
    {
     "data": {
      "text/plain": [
       "10000"
      ]
     },
     "execution_count": 22,
     "metadata": {},
     "output_type": "execute_result"
    }
   ],
   "source": [
    "len(test_loader.dataset)"
   ]
  },
  {
   "attachments": {},
   "cell_type": "markdown",
   "id": "749c3fbf-4167-46ed-acc9-1d54cd7244f4",
   "metadata": {},
   "source": [
    "## 网络定义\n",
    "\n",
    "这里定义一个简单的两层全连接神经网络，输入层为`tfidf_dim`，隐藏层为`hidden_dim`，输出层为`num_classes`。"
   ]
  },
  {
   "cell_type": "code",
   "execution_count": 23,
   "id": "bf2b5424-cff4-4ce5-8ba0-3b5cdf8c336a",
   "metadata": {},
   "outputs": [],
   "source": [
    "import torch.nn.functional as F\n",
    "\n",
    "class TextClassifier(nn.Module):\n",
    "    \n",
    "    def __init__(self, input_dim, hidden_dim, output_dim):\n",
    "        super().__init__()\n",
    "        self.fc1 = nn.Linear(input_dim, hidden_dim)\n",
    "        self.fc2 = nn.Linear(hidden_dim, output_dim)\n",
    "        \n",
    "    def forward(self, x):\n",
    "        x = F.relu(self.fc1(x))\n",
    "        x = self.fc2(x)\n",
    "        return x"
   ]
  },
  {
   "attachments": {},
   "cell_type": "markdown",
   "id": "38851466",
   "metadata": {},
   "source": [
    "完成定义之后，需要将这个类实例化为一个对象，并观察一下网络的结构。pytorch中支持使用`print()`打印网络结构。"
   ]
  },
  {
   "cell_type": "code",
   "execution_count": 24,
   "id": "ab35b071",
   "metadata": {},
   "outputs": [
    {
     "name": "stdout",
     "output_type": "stream",
     "text": [
      "TextClassifier(\n",
      "  (fc1): Linear(in_features=16780, out_features=128, bias=True)\n",
      "  (fc2): Linear(in_features=128, out_features=2, bias=True)\n",
      ")\n"
     ]
    }
   ],
   "source": [
    "model = TextClassifier(train_set.tfidf_dim, 128, 2)\n",
    "print(model)"
   ]
  },
  {
   "cell_type": "code",
   "execution_count": 25,
   "id": "f8bef68d",
   "metadata": {},
   "outputs": [],
   "source": [
    "loss_function = nn.CrossEntropyLoss()\n",
    "optimizer = torch.optim.Adam(model.parameters(), lr=1e-3)"
   ]
  },
  {
   "cell_type": "code",
   "execution_count": 26,
   "id": "d7fd8ee6",
   "metadata": {},
   "outputs": [
    {
     "name": "stdout",
     "output_type": "stream",
     "text": [
      "Epoch 1\n",
      "-------------------------------\n",
      "loss: 0.692138  [    0/20000]\n",
      "loss: 0.520183  [ 6400/20000]\n",
      "loss: 0.361370  [12800/20000]\n",
      "loss: 0.307836  [19200/20000]\n",
      "Test Error: \n",
      " Accuracy: 84.2%, Avg loss: 0.354160 \n",
      "\n",
      "Epoch 2\n",
      "-------------------------------\n",
      "loss: 0.217959  [    0/20000]\n",
      "loss: 0.313281  [ 6400/20000]\n",
      "loss: 0.181966  [12800/20000]\n",
      "loss: 0.366727  [19200/20000]\n",
      "Test Error: \n",
      " Accuracy: 83.6%, Avg loss: 0.374661 \n",
      "\n",
      "Epoch 3\n",
      "-------------------------------\n",
      "loss: 0.139308  [    0/20000]\n",
      "loss: 0.181625  [ 6400/20000]\n",
      "loss: 0.224624  [12800/20000]\n",
      "loss: 0.185544  [19200/20000]\n",
      "Test Error: \n",
      " Accuracy: 83.0%, Avg loss: 0.423263 \n",
      "\n",
      "Epoch 4\n",
      "-------------------------------\n",
      "loss: 0.092780  [    0/20000]\n",
      "loss: 0.113134  [ 6400/20000]\n",
      "loss: 0.094955  [12800/20000]\n",
      "loss: 0.063430  [19200/20000]\n",
      "Test Error: \n",
      " Accuracy: 82.5%, Avg loss: 0.480481 \n",
      "\n",
      "Epoch 5\n",
      "-------------------------------\n",
      "loss: 0.059890  [    0/20000]\n",
      "loss: 0.147719  [ 6400/20000]\n",
      "loss: 0.105704  [12800/20000]\n",
      "loss: 0.064231  [19200/20000]\n",
      "Test Error: \n",
      " Accuracy: 81.9%, Avg loss: 0.544512 \n",
      "\n",
      "Epoch 6\n",
      "-------------------------------\n",
      "loss: 0.128906  [    0/20000]\n",
      "loss: 0.115716  [ 6400/20000]\n",
      "loss: 0.050034  [12800/20000]\n",
      "loss: 0.052030  [19200/20000]\n",
      "Test Error: \n",
      " Accuracy: 81.7%, Avg loss: 0.598446 \n",
      "\n",
      "Epoch 7\n",
      "-------------------------------\n",
      "loss: 0.079185  [    0/20000]\n",
      "loss: 0.052666  [ 6400/20000]\n",
      "loss: 0.075603  [12800/20000]\n",
      "loss: 0.064311  [19200/20000]\n",
      "Test Error: \n",
      " Accuracy: 80.9%, Avg loss: 0.665094 \n",
      "\n",
      "Epoch 8\n",
      "-------------------------------\n",
      "loss: 0.024252  [    0/20000]\n",
      "loss: 0.070730  [ 6400/20000]\n",
      "loss: 0.036795  [12800/20000]\n",
      "loss: 0.094150  [19200/20000]\n",
      "Test Error: \n",
      " Accuracy: 80.7%, Avg loss: 0.727002 \n",
      "\n",
      "Epoch 9\n",
      "-------------------------------\n",
      "loss: 0.064539  [    0/20000]\n",
      "loss: 0.058227  [ 6400/20000]\n",
      "loss: 0.011031  [12800/20000]\n",
      "loss: 0.038248  [19200/20000]\n",
      "Test Error: \n",
      " Accuracy: 80.4%, Avg loss: 0.788041 \n",
      "\n",
      "Epoch 10\n",
      "-------------------------------\n",
      "loss: 0.071933  [    0/20000]\n",
      "loss: 0.072723  [ 6400/20000]\n",
      "loss: 0.050622  [12800/20000]\n",
      "loss: 0.057288  [19200/20000]\n",
      "Test Error: \n",
      " Accuracy: 80.5%, Avg loss: 0.846029 \n",
      "\n",
      "Done!\n"
     ]
    }
   ],
   "source": [
    "def train_fn(model, data_loader, loss_fn, optimizer):\n",
    "    size = len(data_loader.dataset)\n",
    "    model.train()\n",
    "    \n",
    "    train_loss = 0\n",
    "    for batch, (X, y) in enumerate(data_loader):\n",
    "        # 获取预测值\n",
    "        pred = model(X)\n",
    "        # 计算损失\n",
    "        loss = loss_fn(pred, y)\n",
    "        \n",
    "        # 梯度回传\n",
    "        optimizer.zero_grad()\n",
    "        loss.backward()\n",
    "        optimizer.step()\n",
    "        \n",
    "        if batch % 100 == 0:\n",
    "            loss, current = loss.item(), batch * len(X)\n",
    "            print(f\"loss: {loss:>7f}  [{current:>5d}/{size:>5d}]\")\n",
    "        \n",
    "        train_loss += loss\n",
    "\n",
    "    return train_loss.item()\n",
    "    \n",
    "\n",
    "def test_fn(model, data_loader, loss_fn):\n",
    "    size = len(data_loader.dataset)\n",
    "    num_batches = len(data_loader)\n",
    "    model.eval()\n",
    "    test_loss, correct = 0, 0\n",
    "    with torch.no_grad():\n",
    "\n",
    "        for X, y in data_loader:\n",
    "            pred = model(X)\n",
    "            test_loss += loss_fn(pred, y).item()\n",
    "            correct += (pred.argmax(1) == y).type(torch.float).sum().item()\n",
    "\n",
    "    test_loss /= num_batches\n",
    "    correct /= size\n",
    "    print(f\"Test Error: \\n Accuracy: {(100*correct):>0.1f}%, Avg loss: {test_loss:>8f} \\n\")\n",
    "\n",
    "    return test_loss\n",
    "\n",
    "epochs = 10\n",
    "train_losses = []\n",
    "dev_losses = []\n",
    "for t in range(epochs):\n",
    "    print(f\"Epoch {t+1}\\n-------------------------------\")\n",
    "    train_loss = train_fn(model, train_loader, loss_function, optimizer)\n",
    "    dev_loss = test_fn(model, dev_loader, loss_function)\n",
    "    train_losses.append(train_loss)\n",
    "    dev_losses.append(dev_loss)\n",
    "print(\"Done!\")"
   ]
  },
  {
   "attachments": {},
   "cell_type": "markdown",
   "id": "948c8896",
   "metadata": {},
   "source": [
    "## 绘制train / dev损失曲线"
   ]
  },
  {
   "cell_type": "code",
   "execution_count": 27,
   "id": "883c9552",
   "metadata": {},
   "outputs": [
    {
     "data": {
      "image/png": "[encoded data removed]",
      "text/plain": [
       "<Figure size 640x480 with 1 Axes>"
      ]
     },
     "metadata": {},
     "output_type": "display_data"
    }
   ],
   "source": [
    "import matplotlib.pyplot as plt\n",
    "\n",
    "epochs = range(1, len(train_losses) + 1)\n",
    "plt.plot(epochs, train_losses, '-', label='Training loss')\n",
    "plt.title('Training loss')\n",
    "plt.xlabel('Epochs')\n",
    "plt.ylabel('Loss')\n",
    "plt.legend()\n",
    "plt.show()\n"
   ]
  },
  {
   "cell_type": "code",
   "execution_count": 28,
   "id": "3f156b7b",
   "metadata": {},
   "outputs": [
    {
     "data": {
      "image/png": "[encoded data removed]",
      "text/plain": [
       "<Figure size 640x480 with 1 Axes>"
      ]
     },
     "metadata": {},
     "output_type": "display_data"
    }
   ],
   "source": [
    "epochs = range(1, len(dev_losses) + 1)\n",
    "plt.plot(epochs, dev_losses, '-', label='Dev loss')\n",
    "plt.title('Validation loss')\n",
    "plt.xlabel('Epochs')\n",
    "plt.ylabel('Loss')\n",
    "plt.legend()\n",
    "plt.show()"
   ]
  },
  {
   "attachments": {},
   "cell_type": "markdown",
   "id": "45cd9707",
   "metadata": {},
   "source": [
    "可以看到，训练集的损失在不断下降，但是验证集的损失在一定程度上上升，这是过拟合的表现。实际上只需要训练1轮就够了。或者通过  `nn.Dropout()`来缓解过拟合，但是这里不做过多讨论。"
   ]
  },
  {
   "attachments": {},
   "cell_type": "markdown",
   "id": "d77b6782",
   "metadata": {},
   "source": [
    "## 保存模型"
   ]
  },
  {
   "cell_type": "code",
   "execution_count": 29,
   "id": "67493ba4",
   "metadata": {},
   "outputs": [],
   "source": [
    "torch.save(model.state_dict(), 'my_model.pth')"
   ]
  },
  {
   "attachments": {},
   "cell_type": "markdown",
   "id": "1651835e",
   "metadata": {},
   "source": [
    "## 加载模型\n",
    "\n",
    "注意到加载模型时要先实例化一个网络，然后再调用`load_state_dict()`方法加载参数。\n",
    "在实际使用时需要，测试的代码有时候是和训练的代码分离的，这时候就需要把模型结构单独定义在一个文件里，然后在训练和测试的代码中都导入这个文件，这样就可以保证模型结构的一致性。"
   ]
  },
  {
   "cell_type": "code",
   "execution_count": 30,
   "id": "c05305bd",
   "metadata": {},
   "outputs": [
    {
     "data": {
      "text/plain": [
       "<All keys matched successfully>"
      ]
     },
     "execution_count": 30,
     "metadata": {},
     "output_type": "execute_result"
    }
   ],
   "source": [
    "# 加载模型\n",
    "model = TextClassifier(train_set.tfidf_dim, 128, 2)\n",
    "model.load_state_dict(torch.load('my_model.pth'))"
   ]
  },
  {
   "attachments": {},
   "cell_type": "markdown",
   "id": "864582e3",
   "metadata": {},
   "source": [
    "## 在测试集上测试\n",
    "\n",
    "注意此时是用的最后一次训练后的模型，并不是在验证集上表现最好的模型。如果希望能取出验证集上表现最好的模型，请了解早停法(early stopping)"
   ]
  },
  {
   "cell_type": "code",
   "execution_count": 32,
   "id": "96dd59de",
   "metadata": {},
   "outputs": [
    {
     "name": "stdout",
     "output_type": "stream",
     "text": [
      "Test Error: \n",
      " Accuracy: 79.7%, Avg loss: 0.898308 \n",
      "\n"
     ]
    }
   ],
   "source": [
    "# 测试模型\n",
    "_ = test_fn(model, test_loader, loss_function)"
   ]
  },
  {
   "cell_type": "code",
   "execution_count": null,
   "id": "bf001370",
   "metadata": {},
   "outputs": [],
   "source": []
  }
 ],
 "metadata": {
  "kernelspec": {
   "display_name": "py38",
   "language": "python",
   "name": "python3"
  },
  "language_info": {
   "codemirror_mode": {
    "name": "ipython",
    "version": 3
   },
   "file_extension": ".py",
   "mimetype": "text/x-python",
   "name": "python",
   "nbconvert_exporter": "python",
   "pygments_lexer": "ipython3",
   "version": "3.8.13"
  },
  "vscode": {
   "interpreter": {
    "hash": "e90552ea49b455f6f0378ed6ac1c335fc7ecc8dcf34b961be3a3542298ad7d7b"
   }
  }
 },
 "nbformat": 4,
 "nbformat_minor": 5
}
